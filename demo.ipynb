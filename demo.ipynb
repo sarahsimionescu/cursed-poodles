{
 "cells": [
  {
   "cell_type": "code",
   "execution_count": 8,
   "metadata": {},
   "outputs": [
    {
     "name": "stdout",
     "output_type": "stream",
     "text": [
      "Loading networks from \"results/00001-poodles-data-auto1-batch8/network-snapshot-000984.pkl\"...\n",
      "Generating image for seed 50 (0/4) ...\n",
      "Setting up PyTorch plugin \"bias_act_plugin\"... Done.\n",
      "Setting up PyTorch plugin \"upfirdn2d_plugin\"... Done.\n",
      "Generating image for seed 200 (1/4) ...\n",
      "Generating image for seed 450 (2/4) ...\n",
      "Generating image for seed 800 (3/4) ...\n"
     ]
    }
   ],
   "source": [
    "# Generate Poodles Images to the \"out\" Folder\n",
    "!python stylegan2-ada-pytorch/generate.py --outdir=out --trunc=1 --seeds=50,200,450,800 --network=results/00001-poodles-data-auto1-batch8/network-snapshot-000984.pkl"
   ]
  }
 ],
 "metadata": {
  "interpreter": {
   "hash": "fb53d7163f546c16ef14ab3c66346978b37796056cc2c87e7af04aa537c689cc"
  },
  "kernelspec": {
   "display_name": "Python 3.9.13 ('env': venv)",
   "language": "python",
   "name": "python3"
  },
  "language_info": {
   "codemirror_mode": {
    "name": "ipython",
    "version": 3
   },
   "file_extension": ".py",
   "mimetype": "text/x-python",
   "name": "python",
   "nbconvert_exporter": "python",
   "pygments_lexer": "ipython3",
   "version": "3.9.13"
  },
  "orig_nbformat": 4
 },
 "nbformat": 4,
 "nbformat_minor": 2
}
